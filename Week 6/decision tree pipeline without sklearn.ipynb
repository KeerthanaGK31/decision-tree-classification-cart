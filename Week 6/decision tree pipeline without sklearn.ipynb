{
 "cells": [
  {
   "cell_type": "markdown",
   "id": "bac8fc5a",
   "metadata": {},
   "source": [
    "# Datapreprocessing"
   ]
  },
  {
   "cell_type": "markdown",
   "id": "b127434c",
   "metadata": {},
   "source": [
    "### simpleImputer"
   ]
  },
  {
   "cell_type": "code",
   "execution_count": 53,
   "id": "c77c8575",
   "metadata": {},
   "outputs": [],
   "source": [
    "class SimpleImputer:\n",
    "    def __init__(self, strategy='mean', missing_values=np.nan):\n",
    "        self.strategy = strategy\n",
    "        self.missing_values = missing_values\n",
    "\n",
    "    def fit(self, X):\n",
    "        if self.strategy == 'mean':\n",
    "            self.fill_value = np.nanmean(X, axis=0)\n",
    "        elif self.strategy == 'median':\n",
    "            self.fill_value = np.nanmedian(X, axis=0)\n",
    "        elif self.strategy == 'most_frequent':\n",
    "            self.fill_value = np.empty(X.shape[1])\n",
    "            for i in range(X.shape[1]):\n",
    "                column = X[:, i]\n",
    "                values, counts = np.unique(column[~np.isnan(column)], return_counts=True)\n",
    "                self.fill_value[i] = values[np.argmax(counts)]\n",
    "        else:\n",
    "            raise ValueError('Invalid strategy: {}'.format(self.strategy))\n",
    "\n",
    "    def transform(self, X):\n",
    "        if self.strategy == 'most_frequent':\n",
    "            X = np.copy(X)\n",
    "            for i in range(X.shape[1]):\n",
    "                column = X[:, i]\n",
    "                mask = np.isnan(column)\n",
    "                if mask.any():\n",
    "                    column[mask] = self.fill_value[i]\n",
    "        else:\n",
    "            X = np.where(np.isnan(X), self.fill_value, X)\n",
    "\n",
    "        return X\n",
    "\n",
    "    def fit_transform(self, X):\n",
    "        self.fit(X)\n",
    "        return self.transform(X)"
   ]
  },
  {
   "cell_type": "markdown",
   "id": "0dc55817",
   "metadata": {},
   "source": [
    "### train_test_split"
   ]
  },
  {
   "cell_type": "code",
   "execution_count": 54,
   "id": "456f0c50",
   "metadata": {},
   "outputs": [],
   "source": [
    "def train_test_split(X, y, test_size=0.2, random_state=42):\n",
    "    if random_state:\n",
    "        np.random.seed(random_state)\n",
    "    shuffle_indices = np.random.permutation(len(X))\n",
    "    test_size = int(test_size * len(X))\n",
    "    test_indices = shuffle_indices[:test_size]\n",
    "    train_indices = shuffle_indices[test_size:]\n",
    "    X_train = X[train_indices]\n",
    "    y_train = y[train_indices]\n",
    "    X_test = X[test_indices]\n",
    "    y_test = y[test_indices]\n",
    "    return X_train, X_test, y_train, y_test\n"
   ]
  },
  {
   "cell_type": "code",
   "execution_count": 55,
   "id": "bb0e009f",
   "metadata": {},
   "outputs": [],
   "source": [
    "X_train, X_test, y_train, y_test = train_test_split(X, y, test_size=0.2, random_state=42)"
   ]
  },
  {
   "cell_type": "markdown",
   "id": "646f894a",
   "metadata": {},
   "source": [
    "### Defining the node class"
   ]
  },
  {
   "cell_type": "code",
   "execution_count": 56,
   "id": "30ec2485",
   "metadata": {},
   "outputs": [],
   "source": [
    "class DecisionTreeNode:\n",
    "    def __init__(self, feature_index=None, threshold=None, left=None, right=None, value=None):\n",
    "        self.feature_index = feature_index\n",
    "        self.threshold = threshold\n",
    "        self.left = left\n",
    "        self.right = right\n",
    "        self.value = value"
   ]
  },
  {
   "cell_type": "markdown",
   "id": "5cc152a8",
   "metadata": {},
   "source": [
    "### Defining the DecisionTreeClaasifier class"
   ]
  },
  {
   "cell_type": "code",
   "execution_count": 57,
   "id": "aae8966b",
   "metadata": {},
   "outputs": [],
   "source": [
    "class DecisionTreeClassifier:\n",
    "    def __init__(self, max_depth=1, min_samples_split=2):\n",
    "        self.max_depth = max_depth\n",
    "        self.min_samples_split = min_samples_split\n",
    "\n",
    "    def fit(self, X, y):\n",
    "        self.tree = self._build_tree(X, y)\n",
    "\n",
    "    def _build_tree(self, X, y, depth=0):\n",
    "        n_samples, n_features = X.shape\n",
    "\n",
    "        if n_samples < self.min_samples_split or depth == self.max_depth:\n",
    "            return self._leaf_value(y)\n",
    "\n",
    "        best_feature_index, best_threshold = self._best_split(X, y)\n",
    "\n",
    "        if best_feature_index is None:\n",
    "            return self._leaf_value(y)\n",
    "\n",
    "        left_idxs = X[:, best_feature_index] <= best_threshold\n",
    "        right_idxs = X[:, best_feature_index] > best_threshold\n",
    "\n",
    "        left_tree = self._build_tree(X[left_idxs], y[left_idxs], depth + 1)\n",
    "        right_tree = self._build_tree(X[right_idxs], y[right_idxs], depth + 1)\n",
    "\n",
    "        return DecisionTreeNode(best_feature_index, best_threshold, left_tree, right_tree)\n",
    "\n",
    "    def _best_split(self, X, y):\n",
    "        best_gini = np.inf\n",
    "        best_feature_index = None\n",
    "        best_threshold = None\n",
    "\n",
    "        for feature_index in range(X.shape[1]):\n",
    "            feature = X[:, feature_index]\n",
    "            thresholds = np.unique(feature)\n",
    "\n",
    "            for threshold in thresholds:\n",
    "                left_idxs = feature <= threshold\n",
    "                right_idxs = feature > threshold\n",
    "\n",
    "                if len(y[left_idxs]) == 0 or len(y[right_idxs]) == 0:\n",
    "                    continue\n",
    "\n",
    "                gini = self._split_gini(y, y[left_idxs], y[right_idxs])\n",
    "\n",
    "                if gini < best_gini:\n",
    "                    best_gini = gini\n",
    "                    best_feature_index = feature_index\n",
    "                    best_threshold = threshold\n",
    "\n",
    "        return best_feature_index, best_threshold\n",
    "\n",
    "    def _split_gini(self, parent, left, right):\n",
    "        left_weight = len(left) / len(parent)\n",
    "        right_weight = len(right) / len(parent)\n",
    "        return left_weight * self._gini(left) + right_weight * self._gini(right)\n",
    "\n",
    "    def _gini(self, y):\n",
    "        class_counts = np.bincount(y)\n",
    "        class_probs = class_counts / len(y)\n",
    "        return 1 - sum(class_probs ** 2)\n",
    "\n",
    "    def _leaf_value(self, y):\n",
    "        value = np.bincount(y).argmax()\n",
    "        return DecisionTreeNode(value=value)\n",
    "\n",
    "    def predict(self, X):\n",
    "        predictions = np.zeros(X.shape[0])\n",
    "        for i, x in enumerate(X):\n",
    "            node = self.tree\n",
    "            while node.left:\n",
    "                if x[node.feature_index] <= node.threshold:\n",
    "                    node = node.left\n",
    "                else:\n",
    "                    node = node.right\n",
    "                    \n",
    "            predictions[i] = node.value\n",
    "        return predictions\n"
   ]
  },
  {
   "cell_type": "markdown",
   "id": "1d86b0f7",
   "metadata": {},
   "source": [
    "### Accuracy_score"
   ]
  },
  {
   "cell_type": "code",
   "execution_count": 58,
   "id": "5128989f",
   "metadata": {},
   "outputs": [],
   "source": [
    "def accuracy_score(y_true, y_pred):\n",
    "    n_correct = sum(y_true[i] == y_pred[i] for i in range(len(y_true)))\n",
    "    n_total = len(y_true)\n",
    "    return n_correct / n_total"
   ]
  },
  {
   "cell_type": "markdown",
   "id": "a3e96d64",
   "metadata": {},
   "source": [
    "# pipeline"
   ]
  },
  {
   "cell_type": "code",
   "execution_count": 59,
   "id": "dfca9dd5",
   "metadata": {},
   "outputs": [],
   "source": [
    "# Define pipeline for KNN classification\n",
    "class Pipeline:\n",
    "    def __init__(self, steps):\n",
    "        self.steps = steps\n",
    "        \n",
    "    def fit(self, X_train, y_train):\n",
    "        for step in self.steps:\n",
    "            step[1].fit(X_train, y_train)\n",
    "    \n",
    "    def predict(self, X_test):\n",
    "        X_data = X_test\n",
    "        for step in self.steps:\n",
    "            X_data = step[1].predict(X_data)\n",
    "        return X_data\n"
   ]
  },
  {
   "cell_type": "code",
   "execution_count": 60,
   "id": "60164f6d",
   "metadata": {},
   "outputs": [
    {
     "name": "stdout",
     "output_type": "stream",
     "text": [
      "Train set accuracy: 0.831275720164609\n",
      "Test set accuracy: 0.9\n",
      "Best max_depth:  3\n",
      "Best min_samples_split:  1\n"
     ]
    }
   ],
   "source": [
    "import numpy as np\n",
    "import pandas as pd\n",
    "\n",
    "# read the data\n",
    "df = pd.read_csv(\"data.csv\")\n",
    "\n",
    "#replacing male with 1 and female with 0\n",
    "df.replace({'sex':{'male':1,'female':0}}, inplace=True)\n",
    "\n",
    "# split into features and target\n",
    "X = df.drop(\"target\", axis=1)\n",
    "y = df[\"target\"]\n",
    "X = np.array(X)\n",
    "y = np.array(y)\n",
    "\n",
    "# Split data into training and testing sets\n",
    "X_train, X_test, y_train, y_test = train_test_split(X, y, test_size=0.2, random_state=42)\n",
    "\n",
    "# create the preprocessing pipeline\n",
    "preprocessor = Pipeline(steps=[\n",
    "    (\"imputer\", SimpleImputer(strategy=\"mean\")),\n",
    "])\n",
    "\n",
    "# create the decision tree classifier\n",
    "clf = DecisionTreeClassifier()\n",
    "\n",
    "# create the pipeline with preprocessing and classification\n",
    "pipeline = Pipeline(steps=[\n",
    "    (\"preprocessor\", preprocessor),\n",
    "    (\"classifier\", clf)\n",
    "])\n",
    "\n",
    "# Fit pipeline to training data\n",
    "pipe.fit(X_train, y_train)\n",
    "\n",
    "# Define hyperparameter ranges\n",
    "max_depths = [1,2,3,4,5,6,7,8,9,10]\n",
    "min_samples_splits = [1,2,3,4,5,6,7,8,9,10]\n",
    "\n",
    "# Split data into training and validation sets\n",
    "# Split data into training and validation sets\n",
    "X_train, X_val, y_train, y_val = train_test_split(X, y, test_size=0.2, random_state=42)\n",
    "\n",
    "# Initialize variables to store best hyperparameters and best validation score\n",
    "best_params = None\n",
    "best_score = -np.inf\n",
    "\n",
    "# Loop over all possible combinations of hyperparameters\n",
    "for max_depth in max_depths:\n",
    "    for min_samples_split in min_samples_splits:\n",
    "        # Fit decision tree model on training data using current hyperparameters\n",
    "        tree = DecisionTreeClassifier(max_depth, min_samples_split)\n",
    "        tree.fit(X_train, y_train)\n",
    "               \n",
    "        # Evaluate model on validation set\n",
    "        y_pred = tree.predict(X_val)\n",
    "        score = accuracy_score(y_val, y_pred)\n",
    "               \n",
    "        # Record best hyperparameters and best validation score\n",
    "        if score > best_score:\n",
    "            best_params = {'max_depth': max_depth, 'min_samples_split': min_samples_split}\n",
    "            best_score = score\n",
    "\n",
    "# Fit decision tree model on entire dataset using best hyperparameters\n",
    "best_tree = DecisionTreeClassifier(**best_params)\n",
    "best_tree.fit(X, y)\n",
    "\n",
    "# Evaluate model on separate test set\n",
    "y_pred_train = best_tree.predict(X_train)\n",
    "train_score = accuracy_score(y_train, y_pred_train)\n",
    "print(f'Train set accuracy: {train_score}')\n",
    "\n",
    "y_pred_test = best_tree.predict(X_test)\n",
    "test_score = accuracy_score(y_test, y_pred_test)\n",
    "print(f'Test set accuracy: {test_score}')\n",
    "\n",
    "print(\"Best max_depth: \", best_params['max_depth'])\n",
    "print(\"Best min_samples_split: \", best_params['min_samples_split'])"
   ]
  }
 ],
 "metadata": {
  "kernelspec": {
   "display_name": "Python 3 (ipykernel)",
   "language": "python",
   "name": "python3"
  },
  "language_info": {
   "codemirror_mode": {
    "name": "ipython",
    "version": 3
   },
   "file_extension": ".py",
   "mimetype": "text/x-python",
   "name": "python",
   "nbconvert_exporter": "python",
   "pygments_lexer": "ipython3",
   "version": "3.9.7"
  }
 },
 "nbformat": 4,
 "nbformat_minor": 5
}
