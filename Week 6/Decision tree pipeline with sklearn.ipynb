{
 "cells": [
  {
   "cell_type": "code",
   "execution_count": 14,
   "id": "026c0c3d",
   "metadata": {},
   "outputs": [
    {
     "name": "stdout",
     "output_type": "stream",
     "text": [
      "Test accuracy: 0.8852459016393442\n",
      "Best hyperparameters: {'classifier__max_depth': 6, 'classifier__min_samples_split': 10}\n"
     ]
    },
    {
     "name": "stderr",
     "output_type": "stream",
     "text": [
      "C:\\Users\\Adnin\\anaconda3\\lib\\site-packages\\sklearn\\model_selection\\_validation.py:378: FitFailedWarning: \n",
      "50 fits failed out of a total of 500.\n",
      "The score on these train-test partitions for these parameters will be set to nan.\n",
      "If these failures are not expected, you can try to debug them by setting error_score='raise'.\n",
      "\n",
      "Below are more details about the failures:\n",
      "--------------------------------------------------------------------------------\n",
      "50 fits failed with the following error:\n",
      "Traceback (most recent call last):\n",
      "  File \"C:\\Users\\Adnin\\anaconda3\\lib\\site-packages\\sklearn\\model_selection\\_validation.py\", line 686, in _fit_and_score\n",
      "    estimator.fit(X_train, y_train, **fit_params)\n",
      "  File \"C:\\Users\\Adnin\\anaconda3\\lib\\site-packages\\sklearn\\pipeline.py\", line 382, in fit\n",
      "    X : iterable\n",
      "  File \"C:\\Users\\Adnin\\anaconda3\\lib\\site-packages\\sklearn\\tree\\_classes.py\", line 969, in fit\n",
      "    proba[k] = np.log(proba[k])\n",
      "  File \"C:\\Users\\Adnin\\anaconda3\\lib\\site-packages\\sklearn\\tree\\_classes.py\", line 265, in fit\n",
      "    if isinstance(self.max_features, str):\n",
      "  File \"C:\\Users\\Adnin\\anaconda3\\lib\\site-packages\\sklearn\\utils\\validation.py\", line 1480, in check_scalar\n",
      "    \"\"\"Convert type into humman readable string.\"\"\"\n",
      "ValueError: min_samples_split == 1, must be >= 2.\n",
      "\n",
      "  warnings.warn(some_fits_failed_message, FitFailedWarning)\n",
      "C:\\Users\\Adnin\\anaconda3\\lib\\site-packages\\sklearn\\model_selection\\_search.py:953: UserWarning: One or more of the test scores are non-finite: [       nan 0.71505102 0.71505102 0.71505102 0.71505102 0.71505102\n",
      " 0.71505102 0.71505102 0.71505102 0.71505102        nan 0.69438776\n",
      " 0.69438776 0.69438776 0.69438776 0.69438776 0.69438776 0.69438776\n",
      " 0.69438776 0.69438776        nan 0.76020408 0.76020408 0.76020408\n",
      " 0.76020408 0.76020408 0.76020408 0.76020408 0.76020408 0.75603741\n",
      "        nan 0.76054422 0.76054422 0.76054422 0.76054422 0.76054422\n",
      " 0.76054422 0.76054422 0.76054422 0.76054422        nan 0.75212585\n",
      " 0.74804422 0.74387755 0.74387755 0.74787415 0.74379252 0.73562925\n",
      " 0.73971088 0.74379252        nan 0.76454082 0.74812925 0.74821429\n",
      " 0.74821429 0.75212585 0.76037415 0.75221088 0.75629252 0.76454082\n",
      "        nan 0.73554422 0.73137755 0.73146259 0.73154762 0.74379252\n",
      " 0.75204082 0.74804422 0.75212585 0.76037415        nan 0.74804422\n",
      " 0.73971088 0.72312925 0.71904762 0.74379252 0.75204082 0.74804422\n",
      " 0.75212585 0.76037415        nan 0.73971088 0.73971088 0.72312925\n",
      " 0.71904762 0.73545918 0.75204082 0.74804422 0.75212585 0.76037415\n",
      "        nan 0.73971088 0.73971088 0.72312925 0.71904762 0.73545918\n",
      " 0.75204082 0.74804422 0.75212585 0.76037415]\n",
      "  warnings.warn(\n"
     ]
    }
   ],
   "source": [
    "import numpy as np\n",
    "import pandas as pd\n",
    "from sklearn.preprocessing import StandardScaler\n",
    "from sklearn.tree import DecisionTreeClassifier\n",
    "from sklearn.pipeline import Pipeline\n",
    "from sklearn.model_selection import train_test_split, GridSearchCV\n",
    "from sklearn.impute import SimpleImputer\n",
    "\n",
    "# read the data\n",
    "df = pd.read_csv(\"data.csv\")\n",
    "\n",
    "#replacing male with 1 and female with 0\n",
    "df.replace({'sex':{'male':1,'female':0}}, inplace=True)\n",
    "\n",
    "# split into features and target\n",
    "X = df.drop(\"target\", axis=1)\n",
    "y = df[\"target\"]\n",
    "\n",
    "# split into training and testing data\n",
    "X_train, X_test, y_train, y_test = train_test_split(X, y, test_size=0.2, random_state=42)\n",
    "\n",
    "# create the preprocessing pipeline\n",
    "preprocessor = Pipeline(steps=[\n",
    "    (\"imputer\", SimpleImputer(strategy=\"mean\")),\n",
    "    (\"scaler\", StandardScaler())\n",
    "])\n",
    "\n",
    "# create the decision tree classifier\n",
    "clf = DecisionTreeClassifier(criterion='gini',random_state=42)\n",
    "\n",
    "# create the pipeline with preprocessing and classification\n",
    "pipeline = Pipeline(steps=[\n",
    "    (\"preprocessor\", preprocessor),\n",
    "    (\"classifier\", clf)\n",
    "])\n",
    "\n",
    "# define the hyperparameters to search over\n",
    "param_grid = {\n",
    "    \"classifier__max_depth\": [1,2,3,4,5,6,7,8,9,10],\n",
    "    \"classifier__min_samples_split\": [1,2,3,4,5,6,7,8,9,10]\n",
    "}\n",
    "\n",
    "# perform grid search to find the best hyperparameters\n",
    "grid_search = GridSearchCV(pipeline, param_grid=param_grid, cv=5)\n",
    "grid_search.fit(X_train, y_train)\n",
    "\n",
    "# evaluate the best pipeline on the testing data\n",
    "score = grid_search.score(X_test, y_test)\n",
    "\n",
    "# print the test accuracy and best hyperparameters\n",
    "print(f\"Test accuracy: {score}\")\n",
    "print(f\"Best hyperparameters: {grid_search.best_params_}\")\n"
   ]
  },
  {
   "cell_type": "code",
   "execution_count": null,
   "id": "a873a2b3",
   "metadata": {},
   "outputs": [],
   "source": []
  }
 ],
 "metadata": {
  "kernelspec": {
   "display_name": "Python 3 (ipykernel)",
   "language": "python",
   "name": "python3"
  },
  "language_info": {
   "codemirror_mode": {
    "name": "ipython",
    "version": 3
   },
   "file_extension": ".py",
   "mimetype": "text/x-python",
   "name": "python",
   "nbconvert_exporter": "python",
   "pygments_lexer": "ipython3",
   "version": "3.9.7"
  }
 },
 "nbformat": 4,
 "nbformat_minor": 5
}
